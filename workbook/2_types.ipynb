{
  "nbformat": 4,
  "nbformat_minor": 0,
  "metadata": {
    "colab": {
      "provenance": [],
      "include_colab_link": true
    },
    "kernelspec": {
      "name": "python3",
      "display_name": "Python 3"
    },
    "language_info": {
      "name": "python"
    }
  },
  "cells": [
    {
      "cell_type": "markdown",
      "metadata": {
        "id": "view-in-github",
        "colab_type": "text"
      },
      "source": [
        "<a href=\"https://colab.research.google.com/github/steffiprog/HSE-python/blob/main/workbook/2_types.ipynb\" target=\"_parent\"><img src=\"https://colab.research.google.com/assets/colab-badge.svg\" alt=\"Open In Colab\"/></a>"
      ]
    },
    {
      "cell_type": "markdown",
      "source": [
        "(c) В.И. Фирсанова | 2024"
      ],
      "metadata": {
        "id": "LKJXB1rGMi22"
      }
    },
    {
      "cell_type": "markdown",
      "source": [
        "# Типы данных в Python\n",
        "\n",
        "1. **Числовые типы**:\n",
        "   - `int` integer, целое число `7`\n",
        "   - `float` число с плавающей точкой (десятичная дробь) `7.1`\n",
        "\n",
        "2. **Булевы перменные**:\n",
        "   - `Bool` Boolean, принимает значения `True` или `False`\n",
        "\n",
        "3. **Наборы, последовательности**:\n",
        "   - `str` string, строка `\"hello\"`\n",
        "   - `list`, список `[1, 7.1, \"hello\"]`, изменяемая последовательность\n",
        "    - *вложенный список* состоит из множества списков `[[0, 1, 2], [3, 4]]`\n",
        "   - `tuple`, кортеж `(1, 7.1, \"hello), неизменяемая последовательность\n",
        "    - в кортежах нельзя удалять, добавлять данные; они занимают меньше памяти\n",
        "   - `dict`, dictionary, словарь `{\"number\": 1, \"word\": \"hello\"}`, пары ключей и значений (key-query)\n",
        "    - в этом примере ключами будут `\"number\"` и `\"word\"`, а значениями - `1` и `\"hello\"`\n",
        "  - `set`, множество, неупорядоченный набор уникальных элементов `{1, 2, 3}`\n",
        "  - `frozenset`, неизменяемое множество (аналог кортежа по отношению к спискам)\n",
        "\n",
        "4. **None**:\n",
        "   - `None` можно использовать для создания пустого элемента, как плейсхолдер в функции, для проверки факта наличия объекта в переменной и т.д."
      ],
      "metadata": {
        "id": "fQaRb4FdiZXL"
      }
    },
    {
      "cell_type": "markdown",
      "source": [
        "Задачи\n",
        "\n",
        "1. Угадай число"
      ],
      "metadata": {
        "id": "M_S_1NbvB2ak"
      }
    },
    {
      "cell_type": "code",
      "source": [
        "import random # библиотека для генерации случайных чисел\n",
        "\n",
        "# генерируем случайное целое число (random integer) от 0 до 10\n",
        "# функция randint принимает два аргумента: диапазон генерации\n",
        "magic_number = random.randint(0, 10)\n",
        "\n",
        "# запросите у пользователя ввод числа\n",
        "user_number = int(input(\"Введите число от 0 до 10:\"))\n",
        "\n",
        "if user_number == magic_number: # проверка на совпадение значений\n",
        "  print('Поздравляю, вы угадали!')\n",
        "else:\n",
        "  print('А вот и нет! Это число', magic_number)"
      ],
      "metadata": {
        "id": "l6Dwn2cDj_N9",
        "colab": {
          "base_uri": "https://localhost:8080/"
        },
        "outputId": "613d5a8b-3b9e-4728-8575-7877a9225696"
      },
      "execution_count": 1,
      "outputs": [
        {
          "output_type": "stream",
          "name": "stdout",
          "text": [
            "Введите число от 0 до 10:5\n",
            "А вот и нет! Это число 6\n"
          ]
        }
      ]
    },
    {
      "cell_type": "markdown",
      "source": [
        "Обратите внимание на строку `print('А вот и нет! Это число', magic_number)`\n",
        "\n",
        "`print` может принимать несколько аргументов через запятую и выводить на экран их все!\n",
        "\n",
        "Используйте это в следующем задании.\n",
        "\n",
        "2. Приветствие"
      ],
      "metadata": {
        "id": "HU_ZGIkeAZfI"
      }
    },
    {
      "cell_type": "code",
      "source": [
        "# запросите у пользователя его имя\n",
        "user_name = str(input(\"Введите свое имя:\"))\n",
        "# вспомните, чем input(int()) отличается от input()\n",
        "### ваш код здесь ###\n",
        "\n",
        "# выведите на экран любое приветствие для пользователя\n",
        "greeting = f\"Hello,{user_name}!\"\n",
        "print(greeting)"
      ],
      "metadata": {
        "colab": {
          "base_uri": "https://localhost:8080/"
        },
        "outputId": "f5753a59-6435-4f19-a977-1340cf294ce6",
        "id": "y-PGiG7G_7lC"
      },
      "execution_count": 4,
      "outputs": [
        {
          "output_type": "stream",
          "name": "stdout",
          "text": [
            "Введите свое имя:Стефания\n",
            "Hello,Стефания!\n"
          ]
        }
      ]
    },
    {
      "cell_type": "markdown",
      "source": [
        "3. Конвертер температур"
      ],
      "metadata": {
        "id": "A_FhYEiWCAVW"
      }
    },
    {
      "cell_type": "code",
      "source": [
        "# запросите у пользователя температуру в градусах Цельсия:\n",
        "# это должно быть дробное числом (float)\n",
        "celsius = float(input(\"Введите температуру по Цельсию:\"))\n",
        "\n",
        "# конвертируйте температуру из градусов Цельсия в градусы Фаренгейта:\n",
        "fahrenheit = 1.8 * celsius + 32\n",
        "\n",
        "\n",
        "# выведите результат на экран:\n",
        "# используйте любые текстовые формулировки, чтобы показать число,\n",
        "# которое вы получили от пользователя, и результат расчетов\n",
        "result = f\"{celsius} = {fahrenheit} по Фаренегейту\"\n",
        "print(result)"
      ],
      "metadata": {
        "id": "0eRzO5hMkdIc",
        "colab": {
          "base_uri": "https://localhost:8080/"
        },
        "outputId": "d06af2b1-8be3-4571-a305-010c56587e9f"
      },
      "execution_count": 10,
      "outputs": [
        {
          "output_type": "stream",
          "name": "stdout",
          "text": [
            "Введите температуру по Цельсию:32.5\n",
            "32.5 = 90.5 по Фаренегейту\n"
          ]
        }
      ]
    },
    {
      "cell_type": "markdown",
      "source": [
        "Как вывести на экран несколько строк?\n",
        "\n",
        "- Можно вызвать `print` несколько раз\n",
        "\n",
        "```\n",
        "print('Вот первая строка')\n",
        "print('А это вторая строка')\n",
        "```\n",
        "- Можно использовать `\\n` - символ новой строки\n",
        "\n",
        "```\n",
        "print('Вот первая строка \\n А это вторая строка')\n",
        "```\n",
        "\n",
        "4. Округление и вывод с помощью новой строки"
      ],
      "metadata": {
        "id": "7ZiP0RJeEKXX"
      }
    },
    {
      "cell_type": "code",
      "source": [
        "# результат расчетов в задаче 3 сохранился в переменных\n",
        "# воспользуемся этим преимуществом!\n",
        "\n",
        "# округлите оба значения температур в градусах Цельсия и в градусах Фаргентейта\n",
        "# вы можете преобразовать результат к виду целого числа с помощью int(n); n - число для преобразования\n",
        "# либо воспользоваться функцией round(n, k), указав в аргументах функции количество знаков после запятой k\n",
        "# попробуйте оба варианта!\n",
        "rounded_celsius = int(celsius)\n",
        "rounded_fahrenheit = int(fahrenheit)\n",
        "result = f\"{rounded_celsius} по Цельсию = {rounded_fahrenheit} по Фаренгейту\"\n",
        "print(result)\n",
        "\n",
        "second_rounded_celsius = round(celsius, 1)\n",
        "second_rounded_fahrenheit = round(fahrenheit, 1)\n",
        "result = f\"{second_rounded_celsius} по Цельсию = {second_rounded_fahrenheit} по Фаренгейту\"\n",
        "print(result)\n",
        "\n",
        "# теперь выведите на экран оба числа\n",
        "# сделайте это в одну строчку кода:\n",
        "# используйте символ новой строки, подумайте, куда его добавить\n",
        "print(f\"{rounded_celsius} градуса по Цельсию, \\n {rounded_fahrenheit} градусов по Фаренгейту\")"
      ],
      "metadata": {
        "colab": {
          "base_uri": "https://localhost:8080/"
        },
        "id": "bUwEDGEFE2g2",
        "outputId": "7ac16f82-4a32-4118-9225-460a9d4d6fdf"
      },
      "execution_count": 25,
      "outputs": [
        {
          "output_type": "stream",
          "name": "stdout",
          "text": [
            "32 по Цельсию = 90 по Фаренгейту\n",
            "32.5 по Цельсию = 90.5 по Фаренгейту\n",
            "32 градуса по Цельсию, \n",
            " 90 градусов по Фаренгейту\n"
          ]
        }
      ]
    },
    {
      "cell_type": "markdown",
      "source": [
        "В задании 4 нам может помочь свойство конкатенации строк.\n",
        "\n",
        "`print('Hello' + ' ' +'World')`\n",
        "\n",
        "Но сложение строки с числом невозможно в питоне. Что делать?\n",
        "\n",
        "5. Конвертирование типов данных"
      ],
      "metadata": {
        "id": "nqNeKzKIGi3J"
      }
    },
    {
      "cell_type": "code",
      "source": [
        "# преобразуйте округленные значения температур к виду строк, применив str(n),\n",
        "# где n - то, что вы хотите преобразовать к виду строки\n",
        "string_celsius = str(rounded_celsius)\n",
        "string_fahrenheit = str(rounded_fahrenheit)\n",
        "\n",
        "# выведите на экран результат:\n",
        "# используйте конкатенацию строк вместо запятой в функции print\n",
        "print(string_celsius + \" по Цельсию\" + \" = \" + string_fahrenheit + \" по Фаренгейту\")"
      ],
      "metadata": {
        "colab": {
          "base_uri": "https://localhost:8080/"
        },
        "id": "us_bdGWcGxnN",
        "outputId": "7c7c0d11-4c8c-4ea0-94b8-5addfd1e625b"
      },
      "execution_count": 34,
      "outputs": [
        {
          "output_type": "stream",
          "name": "stdout",
          "text": [
            "32 по Цельсию = 90 по Фаренгейту\n"
          ]
        }
      ]
    },
    {
      "cell_type": "markdown",
      "source": [
        "Чтобы преобразовать один тип данных в другой, мы вызываем функцию, обозначающую этот тип.\n",
        "\n",
        "Закрепим новый материал.\n",
        "\n",
        "6. Калькулятор"
      ],
      "metadata": {
        "id": "spQ5uN3astAm"
      }
    },
    {
      "cell_type": "code",
      "source": [
        "# запросите у пользователя 2 целых числа\n",
        "# выполните операции сложения, вычитания, умножения и возведения каждого из чисел во вторую степень\n",
        "# выведите результат на экран\n",
        "\n",
        "num_1 = int(input(\"Введите первое целое число:\"))\n",
        "num_2 = int(input(\"Введите второе целое число:\"))\n",
        "\n",
        "sum = num_1 + num_2\n",
        "subtr = num_1 - num_2\n",
        "product = num_1 * num_2\n",
        "exp_1 = pow(num_1, 2)\n",
        "exp_2 = pow(num_2, 2)\n",
        "\n",
        "print(\"Результат сложения\", sum, \"\\n\" \"Результат вычитания\", subtr, \"\\n\" \"Результат умножения\", product, \"\\n\" \"Результат возведения первого числа во вторую степень\", exp_1, \"\\n\" \"Результат возведения второго числа во вторую степень\", exp_2 )"
      ],
      "metadata": {
        "colab": {
          "base_uri": "https://localhost:8080/"
        },
        "id": "n7-Jm439sar_",
        "outputId": "18ae9f82-3d89-4f08-b5d6-06771bf57b6a"
      },
      "execution_count": 40,
      "outputs": [
        {
          "output_type": "stream",
          "name": "stdout",
          "text": [
            "Введите первое целое число:25\n",
            "Введите второе целое число:3\n",
            "Результат сложения 28 \n",
            "Результат вычитания 22 \n",
            "Результат умножения 75 \n",
            "Результат возведения первого числа во вторую степень 625 \n",
            "Результат возведения второго числа во вторую степень 9\n"
          ]
        }
      ]
    },
    {
      "cell_type": "markdown",
      "source": [
        "7. Анкета"
      ],
      "metadata": {
        "id": "x73Q0mXOuY_A"
      }
    },
    {
      "cell_type": "code",
      "source": [
        "# вспомним множественное присваивание в python\n",
        "# a, b, c = 0, 1, 2\n",
        "# используйте множественное присваивание,\n",
        "# чтобы одной строчкой кода запросить у пользователя имя, возраст и профессию\n",
        "# выведите на экран полученную информацию\n",
        "\n",
        "name, age, job = input(\"введите ваше имя\"), input(\"введите ваш возраст\"), input(\"введите вашу профессию\")\n",
        "print(name, age, job)"
      ],
      "metadata": {
        "colab": {
          "base_uri": "https://localhost:8080/"
        },
        "id": "-I2KyU5CuF_q",
        "outputId": "7fd77fbd-72d6-4969-ed5f-30b066bf631a"
      },
      "execution_count": 42,
      "outputs": [
        {
          "output_type": "stream",
          "name": "stdout",
          "text": [
            "введите ваше имяСтефания\n",
            "введите ваш возраст23\n",
            "введите вашу профессиюкомпьютерный лингвист\n",
            "Стефания 23 компьютерный лингвист\n"
          ]
        }
      ]
    },
    {
      "cell_type": "markdown",
      "source": [
        "8. Поменять местами переменные"
      ],
      "metadata": {
        "id": "yTqWtZfltMhg"
      }
    },
    {
      "cell_type": "code",
      "source": [
        "# множественное присваивание иногда очень полезно\n",
        "# запросите у пользователя две любые переменные\n",
        "# это может быть строка или число, на ваш выбор\n",
        "\n",
        "# поменяйте их местами одной строчкой кода:\n",
        "# запишите в первую переменную информацию из второй,\n",
        "# а во вторую переменную - информацию из первой, используя множественное присваивание\n",
        "\n",
        "# выведите на экран промежуточные и итоговые результаты\n",
        "\n",
        "fruit_1, fruit_2 = input(\"Введи первый любимый фрукт:\"), input(\"Введи второй любимый фрукт:\")\n",
        "fruit_1, fruit_2 = fruit_2, fruit_1\n",
        "print(\"Первый любимый фрукт:\", fruit_1)\n",
        "print(\"Второй любимый фрукт:\", fruit_2)"
      ],
      "metadata": {
        "colab": {
          "base_uri": "https://localhost:8080/"
        },
        "id": "NTHA_bPbv8uX",
        "outputId": "2a672944-3bfb-41c2-ee48-ccf46e6162fa"
      },
      "execution_count": 44,
      "outputs": [
        {
          "output_type": "stream",
          "name": "stdout",
          "text": [
            "Введи первый любимый фрукт:яблоко\n",
            "Введи второй любимый фрукт:груша\n",
            "Первый любимый фрукт: груша\n",
            "Второй любимый фрукт: яблоко\n"
          ]
        }
      ]
    },
    {
      "cell_type": "markdown",
      "source": [
        "9. Дописать функцию"
      ],
      "metadata": {
        "id": "75A8BHaKv6Wl"
      }
    },
    {
      "cell_type": "code",
      "source": [
        "# чаще мы используем множественное присваивание в фунциональном программировании\n",
        "# например, эта функция считает сумму и произведение двух чисел\n",
        "# функция принимает на вход (почти как input!) 2 числа\n",
        "# эти числа запишутся в переменные a и b\n",
        "def sum_and_product(a, b):\n",
        "    # напишите здесь код для расчета суммы чисел a и b\n",
        "    total_sum = a + b\n",
        "    # а сюда допишите код для подсчета их произведения\n",
        "    product = a * b\n",
        "    # функция возвращает результат подсчета - два новых числа\n",
        "    return total_sum, product\n",
        "\n",
        "# настало время множественного присваивания\n",
        "# мы вызывает функцию sum_and_product и передаем ей в качестве аргументов два числа - 5 и 3\n",
        "# мы помним, что функция возвращает 2 новых числа,\n",
        "# поэтому результат работы одной функции мы записываем в две переменные: result_sum и result_product\n",
        "result_sum, result_product = sum_and_product(5, 3)\n",
        "\n",
        "# выведите на экран result_sum и result_product\n",
        "print(result_sum, result_product)"
      ],
      "metadata": {
        "colab": {
          "base_uri": "https://localhost:8080/"
        },
        "id": "rBnK8PXDxVRr",
        "outputId": "ae317d07-b674-4a4a-e04c-af37bf3724e8"
      },
      "execution_count": 45,
      "outputs": [
        {
          "output_type": "stream",
          "name": "stdout",
          "text": [
            "8 15\n"
          ]
        }
      ]
    },
    {
      "cell_type": "markdown",
      "source": [
        "10. Строка и число"
      ],
      "metadata": {
        "id": "ZmO8j5ySxUO9"
      }
    },
    {
      "cell_type": "code",
      "source": [
        "# запросите у пользователя 2 числа, используйте str(input())\n",
        "# сложите два числа, не меняя тип данных, и выведите на экран результат\n",
        "# преобразуйте числа к виду нужного типа и снова сложите их, выведите результат\n",
        "\n",
        "# это задание нам уже знакомо:\n",
        "# попробуйте решить его питонично, используя как можно меньше строк кода\n",
        "# какие операции можно объединить?\n",
        "# в каких случаях нам не нужно создавать дополнительные переменные?\n",
        "\n",
        "# я подключила знания из дополнительных учебных материалов, попробовала сделать второй вариант через split\n",
        "\n",
        "num_1, num_2 = str(input(\"Введите первое число\")), str(input(\"Введите второе число\"))\n",
        "sum_num = num_1 + num_2\n",
        "sum_num_int = int(num_1) + int(num_2)\n",
        "print(sum_num, sum_num_int)\n",
        "\n",
        "# опция 2 через метод split\n",
        "a, b = input('Введите два числа через пробел: ').split()\n",
        "print(a + b, int(a) + int(b))\n"
      ],
      "metadata": {
        "colab": {
          "base_uri": "https://localhost:8080/"
        },
        "id": "XOt6ZUeDzFAJ",
        "outputId": "41c7693d-0748-4de5-ee67-d7f0c70bc7cc"
      },
      "execution_count": 51,
      "outputs": [
        {
          "output_type": "stream",
          "name": "stdout",
          "text": [
            "Введите первое число25\n",
            "Введите второе число3\n",
            "253 28\n",
            "Введите два числа через пробел: 25 3\n",
            "253 28\n"
          ]
        }
      ]
    }
  ]
}